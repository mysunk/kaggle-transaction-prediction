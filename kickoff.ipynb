{
 "metadata": {
  "language_info": {
   "codemirror_mode": {
    "name": "ipython",
    "version": 3
   },
   "file_extension": ".py",
   "mimetype": "text/x-python",
   "name": "python",
   "nbconvert_exporter": "python",
   "pygments_lexer": "ipython3",
   "version": "3.7.10"
  },
  "orig_nbformat": 4,
  "kernelspec": {
   "name": "python3",
   "display_name": "Python 3.7.10 64-bit ('otdd': conda)"
  },
  "interpreter": {
   "hash": "267aa35eb53d4044b176f549448a89809a4a50164ea4c7054d8ccbeb1c002774"
  }
 },
 "nbformat": 4,
 "nbformat_minor": 2,
 "cells": [
  {
   "source": [
    "## Kickoff"
   ],
   "cell_type": "markdown",
   "metadata": {}
  },
  {
   "cell_type": "code",
   "execution_count": 6,
   "metadata": {},
   "outputs": [],
   "source": [
    "import pandas as pd\n",
    "\n",
    "data_path = 'data/'\n",
    "train = pd.read_csv(data_path + 'train.csv', index_col=0)\n",
    "test = pd.read_csv(data_path + 'test.csv', index_col=0)\n",
    "submission = pd.read_csv(data_path + 'sample_submission.csv')\n"
   ]
  },
  {
   "cell_type": "code",
   "execution_count": 7,
   "metadata": {},
   "outputs": [],
   "source": [
    "target = train['target']\n",
    "train.drop(columns = ['target'], inplace = True)"
   ]
  },
  {
   "cell_type": "code",
   "execution_count": 9,
   "metadata": {},
   "outputs": [
    {
     "output_type": "execute_result",
     "data": {
      "text/plain": [
       "               var_0    var_1    var_2   var_3    var_4    var_5   var_6  \\\n",
       "ID_code                                                                    \n",
       "test_0       11.0656   7.7798  12.9536  9.4292  11.4327  -2.3805  5.8493   \n",
       "test_1        8.5304   1.2543  11.3047  5.1858   9.1974  -4.0117  6.0196   \n",
       "test_2        5.4827 -10.3581  10.1407  7.0479  10.2628   9.8052  4.8950   \n",
       "test_3        8.5374  -1.3222  12.0220  6.5749   8.8458   3.1744  4.9397   \n",
       "test_4       11.7058  -0.1327  14.1295  7.7506   9.1035  -8.5848  6.8595   \n",
       "...              ...      ...      ...     ...      ...      ...     ...   \n",
       "test_199995  13.1678   1.0136  10.4333  6.7997   8.5974  -4.1641  4.8579   \n",
       "test_199996   9.7171  -9.1462   7.3443  9.1421  12.8936   3.0191  5.6888   \n",
       "test_199997  11.6360   2.2769  11.2074  7.7649  12.6796  11.3224  5.3883   \n",
       "test_199998  13.5745  -0.5134  13.6584  7.4855  11.2241 -11.3037  4.1959   \n",
       "test_199999  10.4664   1.8070  10.2277  6.0654  10.0258   1.0789  4.8879   \n",
       "\n",
       "               var_7   var_8   var_9  ...  var_190  var_191  var_192  var_193  \\\n",
       "ID_code                               ...                                       \n",
       "test_0       18.2675  2.1337  8.8100  ...  -2.1556  11.8495  -1.4300   2.4508   \n",
       "test_1       18.6316 -4.4131  5.9739  ...  10.6165   8.8349   0.9403  10.1282   \n",
       "test_2       20.2537  1.5233  8.3442  ...  -0.7484  10.9935   1.9803   2.1800   \n",
       "test_3       20.5660  3.3755  7.4578  ...   9.5702   9.0766   1.6580   3.5813   \n",
       "test_4       10.6048  2.9890  7.1437  ...   4.2259   9.1723   1.2835   3.3778   \n",
       "...              ...     ...     ...  ...      ...      ...      ...      ...   \n",
       "test_199995  14.7625 -2.7239  6.9937  ...   2.0544   9.6849   4.6734  -1.3660   \n",
       "test_199996  18.8862  5.0915  6.3545  ...   5.0071   6.6548   1.8197   2.4104   \n",
       "test_199997  18.3794  1.6603  5.7341  ...   5.1536   2.6498   2.4937  -0.0637   \n",
       "test_199998  16.8280  5.3208  8.9032  ...   3.4259   8.5012   2.2713   5.7621   \n",
       "test_199999  14.4892 -0.5902  7.8362  ...   0.1398   9.2828   1.3601   4.8985   \n",
       "\n",
       "             var_194  var_195  var_196  var_197  var_198  var_199  \n",
       "ID_code                                                            \n",
       "test_0       13.7112   2.4669   4.3654  10.7200  15.4722  -8.7197  \n",
       "test_1       15.5765   0.4773  -1.4852   9.8714  19.1293 -20.9760  \n",
       "test_2       12.9813   2.1281  -7.1086   7.0618  19.8956 -23.1794  \n",
       "test_3       15.1874   3.1656   3.9567   9.2295  13.0168  -4.2108  \n",
       "test_4       19.5542  -0.2860  -5.1612   7.2882  13.9260  -9.1846  \n",
       "...              ...      ...      ...      ...      ...      ...  \n",
       "test_199995  12.8721   1.2013  -4.6195   9.1568  18.2102   4.8801  \n",
       "test_199996  18.9037  -0.9337   2.9995   9.1112  18.1740 -20.7689  \n",
       "test_199997  20.0609  -1.1742  -4.1524   9.1933  11.7905 -22.2762  \n",
       "test_199998  17.0056   1.1763  -2.3761   8.1079   8.7735  -0.2122  \n",
       "test_199999  20.0926  -1.3048  -2.5981  10.3378  14.3340  -7.7094  \n",
       "\n",
       "[200000 rows x 200 columns]"
      ],
      "text/html": "<div>\n<style scoped>\n    .dataframe tbody tr th:only-of-type {\n        vertical-align: middle;\n    }\n\n    .dataframe tbody tr th {\n        vertical-align: top;\n    }\n\n    .dataframe thead th {\n        text-align: right;\n    }\n</style>\n<table border=\"1\" class=\"dataframe\">\n  <thead>\n    <tr style=\"text-align: right;\">\n      <th></th>\n      <th>var_0</th>\n      <th>var_1</th>\n      <th>var_2</th>\n      <th>var_3</th>\n      <th>var_4</th>\n      <th>var_5</th>\n      <th>var_6</th>\n      <th>var_7</th>\n      <th>var_8</th>\n      <th>var_9</th>\n      <th>...</th>\n      <th>var_190</th>\n      <th>var_191</th>\n      <th>var_192</th>\n      <th>var_193</th>\n      <th>var_194</th>\n      <th>var_195</th>\n      <th>var_196</th>\n      <th>var_197</th>\n      <th>var_198</th>\n      <th>var_199</th>\n    </tr>\n    <tr>\n      <th>ID_code</th>\n      <th></th>\n      <th></th>\n      <th></th>\n      <th></th>\n      <th></th>\n      <th></th>\n      <th></th>\n      <th></th>\n      <th></th>\n      <th></th>\n      <th></th>\n      <th></th>\n      <th></th>\n      <th></th>\n      <th></th>\n      <th></th>\n      <th></th>\n      <th></th>\n      <th></th>\n      <th></th>\n      <th></th>\n    </tr>\n  </thead>\n  <tbody>\n    <tr>\n      <th>test_0</th>\n      <td>11.0656</td>\n      <td>7.7798</td>\n      <td>12.9536</td>\n      <td>9.4292</td>\n      <td>11.4327</td>\n      <td>-2.3805</td>\n      <td>5.8493</td>\n      <td>18.2675</td>\n      <td>2.1337</td>\n      <td>8.8100</td>\n      <td>...</td>\n      <td>-2.1556</td>\n      <td>11.8495</td>\n      <td>-1.4300</td>\n      <td>2.4508</td>\n      <td>13.7112</td>\n      <td>2.4669</td>\n      <td>4.3654</td>\n      <td>10.7200</td>\n      <td>15.4722</td>\n      <td>-8.7197</td>\n    </tr>\n    <tr>\n      <th>test_1</th>\n      <td>8.5304</td>\n      <td>1.2543</td>\n      <td>11.3047</td>\n      <td>5.1858</td>\n      <td>9.1974</td>\n      <td>-4.0117</td>\n      <td>6.0196</td>\n      <td>18.6316</td>\n      <td>-4.4131</td>\n      <td>5.9739</td>\n      <td>...</td>\n      <td>10.6165</td>\n      <td>8.8349</td>\n      <td>0.9403</td>\n      <td>10.1282</td>\n      <td>15.5765</td>\n      <td>0.4773</td>\n      <td>-1.4852</td>\n      <td>9.8714</td>\n      <td>19.1293</td>\n      <td>-20.9760</td>\n    </tr>\n    <tr>\n      <th>test_2</th>\n      <td>5.4827</td>\n      <td>-10.3581</td>\n      <td>10.1407</td>\n      <td>7.0479</td>\n      <td>10.2628</td>\n      <td>9.8052</td>\n      <td>4.8950</td>\n      <td>20.2537</td>\n      <td>1.5233</td>\n      <td>8.3442</td>\n      <td>...</td>\n      <td>-0.7484</td>\n      <td>10.9935</td>\n      <td>1.9803</td>\n      <td>2.1800</td>\n      <td>12.9813</td>\n      <td>2.1281</td>\n      <td>-7.1086</td>\n      <td>7.0618</td>\n      <td>19.8956</td>\n      <td>-23.1794</td>\n    </tr>\n    <tr>\n      <th>test_3</th>\n      <td>8.5374</td>\n      <td>-1.3222</td>\n      <td>12.0220</td>\n      <td>6.5749</td>\n      <td>8.8458</td>\n      <td>3.1744</td>\n      <td>4.9397</td>\n      <td>20.5660</td>\n      <td>3.3755</td>\n      <td>7.4578</td>\n      <td>...</td>\n      <td>9.5702</td>\n      <td>9.0766</td>\n      <td>1.6580</td>\n      <td>3.5813</td>\n      <td>15.1874</td>\n      <td>3.1656</td>\n      <td>3.9567</td>\n      <td>9.2295</td>\n      <td>13.0168</td>\n      <td>-4.2108</td>\n    </tr>\n    <tr>\n      <th>test_4</th>\n      <td>11.7058</td>\n      <td>-0.1327</td>\n      <td>14.1295</td>\n      <td>7.7506</td>\n      <td>9.1035</td>\n      <td>-8.5848</td>\n      <td>6.8595</td>\n      <td>10.6048</td>\n      <td>2.9890</td>\n      <td>7.1437</td>\n      <td>...</td>\n      <td>4.2259</td>\n      <td>9.1723</td>\n      <td>1.2835</td>\n      <td>3.3778</td>\n      <td>19.5542</td>\n      <td>-0.2860</td>\n      <td>-5.1612</td>\n      <td>7.2882</td>\n      <td>13.9260</td>\n      <td>-9.1846</td>\n    </tr>\n    <tr>\n      <th>...</th>\n      <td>...</td>\n      <td>...</td>\n      <td>...</td>\n      <td>...</td>\n      <td>...</td>\n      <td>...</td>\n      <td>...</td>\n      <td>...</td>\n      <td>...</td>\n      <td>...</td>\n      <td>...</td>\n      <td>...</td>\n      <td>...</td>\n      <td>...</td>\n      <td>...</td>\n      <td>...</td>\n      <td>...</td>\n      <td>...</td>\n      <td>...</td>\n      <td>...</td>\n      <td>...</td>\n    </tr>\n    <tr>\n      <th>test_199995</th>\n      <td>13.1678</td>\n      <td>1.0136</td>\n      <td>10.4333</td>\n      <td>6.7997</td>\n      <td>8.5974</td>\n      <td>-4.1641</td>\n      <td>4.8579</td>\n      <td>14.7625</td>\n      <td>-2.7239</td>\n      <td>6.9937</td>\n      <td>...</td>\n      <td>2.0544</td>\n      <td>9.6849</td>\n      <td>4.6734</td>\n      <td>-1.3660</td>\n      <td>12.8721</td>\n      <td>1.2013</td>\n      <td>-4.6195</td>\n      <td>9.1568</td>\n      <td>18.2102</td>\n      <td>4.8801</td>\n    </tr>\n    <tr>\n      <th>test_199996</th>\n      <td>9.7171</td>\n      <td>-9.1462</td>\n      <td>7.3443</td>\n      <td>9.1421</td>\n      <td>12.8936</td>\n      <td>3.0191</td>\n      <td>5.6888</td>\n      <td>18.8862</td>\n      <td>5.0915</td>\n      <td>6.3545</td>\n      <td>...</td>\n      <td>5.0071</td>\n      <td>6.6548</td>\n      <td>1.8197</td>\n      <td>2.4104</td>\n      <td>18.9037</td>\n      <td>-0.9337</td>\n      <td>2.9995</td>\n      <td>9.1112</td>\n      <td>18.1740</td>\n      <td>-20.7689</td>\n    </tr>\n    <tr>\n      <th>test_199997</th>\n      <td>11.6360</td>\n      <td>2.2769</td>\n      <td>11.2074</td>\n      <td>7.7649</td>\n      <td>12.6796</td>\n      <td>11.3224</td>\n      <td>5.3883</td>\n      <td>18.3794</td>\n      <td>1.6603</td>\n      <td>5.7341</td>\n      <td>...</td>\n      <td>5.1536</td>\n      <td>2.6498</td>\n      <td>2.4937</td>\n      <td>-0.0637</td>\n      <td>20.0609</td>\n      <td>-1.1742</td>\n      <td>-4.1524</td>\n      <td>9.1933</td>\n      <td>11.7905</td>\n      <td>-22.2762</td>\n    </tr>\n    <tr>\n      <th>test_199998</th>\n      <td>13.5745</td>\n      <td>-0.5134</td>\n      <td>13.6584</td>\n      <td>7.4855</td>\n      <td>11.2241</td>\n      <td>-11.3037</td>\n      <td>4.1959</td>\n      <td>16.8280</td>\n      <td>5.3208</td>\n      <td>8.9032</td>\n      <td>...</td>\n      <td>3.4259</td>\n      <td>8.5012</td>\n      <td>2.2713</td>\n      <td>5.7621</td>\n      <td>17.0056</td>\n      <td>1.1763</td>\n      <td>-2.3761</td>\n      <td>8.1079</td>\n      <td>8.7735</td>\n      <td>-0.2122</td>\n    </tr>\n    <tr>\n      <th>test_199999</th>\n      <td>10.4664</td>\n      <td>1.8070</td>\n      <td>10.2277</td>\n      <td>6.0654</td>\n      <td>10.0258</td>\n      <td>1.0789</td>\n      <td>4.8879</td>\n      <td>14.4892</td>\n      <td>-0.5902</td>\n      <td>7.8362</td>\n      <td>...</td>\n      <td>0.1398</td>\n      <td>9.2828</td>\n      <td>1.3601</td>\n      <td>4.8985</td>\n      <td>20.0926</td>\n      <td>-1.3048</td>\n      <td>-2.5981</td>\n      <td>10.3378</td>\n      <td>14.3340</td>\n      <td>-7.7094</td>\n    </tr>\n  </tbody>\n</table>\n<p>200000 rows × 200 columns</p>\n</div>"
     },
     "metadata": {},
     "execution_count": 9
    }
   ],
   "source": [
    "test"
   ]
  }
 ]
}